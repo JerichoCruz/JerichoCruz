{
 "cells": [
  {
   "cell_type": "markdown",
   "metadata": {},
   "source": [
    "# Economic Data Analysis with Fred & Pandas\n",
    "\n",
    "This is an example of how to pull data, visualize and discover insights using python pandas.\n",
    "\n",
    "We will be using data from Federal Reserve Economic Data (FRED), which is an online database consisting of hundreds of thousands of economic data time series from a multitude of sources.\n",
    "\n",
    "Fred is not available by default within jupyter notebook but we will install the fredapi using the pip command seen below."
   ]
  },
  {
   "cell_type": "code",
   "execution_count": null,
   "metadata": {},
   "outputs": [],
   "source": [
    "!pip install fredapi"
   ]
  },
  {
   "cell_type": "markdown",
   "metadata": {},
   "source": [
    "Import dependencies"
   ]
  },
  {
   "cell_type": "code",
   "execution_count": null,
   "metadata": {},
   "outputs": [],
   "source": [
    "import pandas as pd\n",
    "import numpy as np\n",
    "import matplotlib.pyplot as plt\n",
    "import plotly.express as px\n",
    "\n",
    "plt.style.use('fivethirtyeight')\n",
    "pd.set_option('max_columns', 500)\n",
    "color_pal = plt.rcParams[\"axes.prop_cycle\"].by_key()[\"color\"]\n",
    "\n",
    "from fredapi import Fred\n",
    "\n",
    "# Request Fred API Key from:\n",
    "# https://fred.stlouisfed.org/docs/api/fred/#API\n",
    "fred_key = 'Your key here'"
   ]
  },
  {
   "cell_type": "markdown",
   "metadata": {},
   "source": [
    "1. Create the Fred object"
   ]
  },
  {
   "cell_type": "code",
   "execution_count": null,
   "metadata": {},
   "outputs": [],
   "source": [
    "fred = Fred(api_key=fred_key)"
   ]
  },
  {
   "cell_type": "markdown",
   "metadata": {},
   "source": [
    "2. Search for economic data"
   ]
  },
  {
   "cell_type": "code",
   "execution_count": null,
   "metadata": {},
   "outputs": [],
   "source": [
    "sp_search1 = fred.search('SP', order_by='popularity') # https://fred.stlouisfed.org/series/SP500\n",
    "sp_search1.head()"
   ]
  },
  {
   "cell_type": "code",
   "execution_count": null,
   "metadata": {},
   "outputs": [],
   "source": [
    "sp_search2 = fred.search('T5YIE') # 5-Year Breakeven Inflation Rate https://fred.stlouisfed.org/series/T5YIE\n",
    "sp_search2.head()"
   ]
  },
  {
   "cell_type": "markdown",
   "metadata": {},
   "source": [
    "3. Pull Raw Data & Plot"
   ]
  },
  {
   "cell_type": "code",
   "execution_count": null,
   "metadata": {},
   "outputs": [],
   "source": [
    "sp500 = fred.get_series(series_id='SP500', observation_start='6/8/2017', observation_end='6/8/2022')\n",
    "sp500.plot(figsize=(10, 5), title='S&P 500', lw=2)"
   ]
  },
  {
   "cell_type": "code",
   "execution_count": null,
   "metadata": {},
   "outputs": [],
   "source": [
    "t5yinflation = fred.get_series(series_id='T5YIE', observation_start='6/8/2017',  observation_end='6/8/2022')\n",
    "t5yinflation.plot(figsize=(10, 5), title='5-Year Breakeven Inflation Rate', lw=2)"
   ]
  },
  {
   "cell_type": "markdown",
   "metadata": {},
   "source": [
    "4. Plot both data series together"
   ]
  },
  {
   "cell_type": "code",
   "execution_count": null,
   "metadata": {},
   "outputs": [],
   "source": [
    "fig, ax = plt.subplots()\n",
    "ax2 = ax.twinx()\n",
    "sp500.plot(figsize=(10, 5), ax=ax, label='S&P 500', lw=2)\n",
    "t5yinflation.plot(ax=ax2, label='Inflation', color=color_pal[1], lw=2)\n",
    "ax2.grid(False) # Turn grid off on second line\n",
    "ax.set_title('S&P 500 Index compared to Inflation Rate')"
   ]
  }
 ],
 "metadata": {
  "interpreter": {
   "hash": "42c636e52f3a43842fe973a721dcddf76a84e968c41ac463a9fc26d7399e43fd"
  },
  "kernelspec": {
   "display_name": "Python 3.8.8 ('base')",
   "language": "python",
   "name": "python3"
  },
  "language_info": {
   "codemirror_mode": {
    "name": "ipython",
    "version": 3
   },
   "file_extension": ".py",
   "mimetype": "text/x-python",
   "name": "python",
   "nbconvert_exporter": "python",
   "pygments_lexer": "ipython3",
   "version": "3.8.8"
  },
  "orig_nbformat": 4
 },
 "nbformat": 4,
 "nbformat_minor": 2
}
